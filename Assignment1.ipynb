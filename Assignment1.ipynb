{
 "cells": [
  {
   "cell_type": "markdown",
   "metadata": {},
   "source": [
    "# Assignment1"
   ]
  },
  {
   "cell_type": "code",
   "execution_count": 2,
   "metadata": {},
   "outputs": [
    {
     "name": "stdout",
     "output_type": "stream",
     "text": [
      "enter starting no4\n",
      "enter ending no15\n",
      "prime nos are:- 5 7 11 13 "
     ]
    }
   ],
   "source": [
    "N=int(input('enter starting no'))\n",
    "L=int(input('enter ending no'))\n",
    "n=range(N,L)\n",
    "print('prime nos are:-',end=' ')\n",
    "for i in n:\n",
    "    if i>=2:\n",
    "        for j in range(2,int(i/2)+1):\n",
    "            if i%j==0:\n",
    "                break\n",
    "        else:\n",
    "            print(i,end=\" \" )\n",
    "    else:\n",
    "            print(i,end=\" \" )"
   ]
  },
  {
   "cell_type": "code",
   "execution_count": 12,
   "metadata": {},
   "outputs": [
    {
     "name": "stdout",
     "output_type": "stream",
     "text": [
      "enter a no6\n",
      "factorial of given no is 720\n",
      "if you want to find another factorial than press y else press n\n",
      "y\n",
      "enter a no5\n",
      "factorial of given no is 120\n",
      "enter y or nn\n",
      "thank you\n"
     ]
    }
   ],
   "source": [
    "def fact():\n",
    "    N=int(input('enter a no'))\n",
    "    i=1\n",
    "    factorial=1\n",
    "    while i<=N:\n",
    "        factorial=factorial*N\n",
    "        N=N-1\n",
    "    print('factorial of given no is',factorial)\n",
    "fact()\n",
    "print('if you want to find another factorial than press y else press n')\n",
    "t=input('')\n",
    "while t=='y':\n",
    "    fact()\n",
    "    t=input('enter y or n')\n",
    "print('thank you')"
   ]
  },
  {
   "cell_type": "code",
   "execution_count": 4,
   "metadata": {},
   "outputs": [
    {
     "name": "stdout",
     "output_type": "stream",
     "text": [
      "enter a no or q for quit4\n",
      "enter a no or q for quit8\n",
      "enter a no or q for quit4\n",
      "enter a no or q for quit0\n",
      "enter a no or q for quit4\n",
      "enter a no or q for quitq\n",
      "Sum= 20\n"
     ]
    }
   ],
   "source": [
    "sum=0\n",
    "while True:\n",
    "    N=input('enter a no or q for quit')\n",
    "    if N=='q':\n",
    "        break\n",
    "    else:\n",
    "        N=int(N)\n",
    "        sum=sum+N\n",
    "print('Sum=',sum)\n",
    "    "
   ]
  }
 ],
 "metadata": {
  "kernelspec": {
   "display_name": "Python 3",
   "language": "python",
   "name": "python3"
  },
  "language_info": {
   "codemirror_mode": {
    "name": "ipython",
    "version": 3
   },
   "file_extension": ".py",
   "mimetype": "text/x-python",
   "name": "python",
   "nbconvert_exporter": "python",
   "pygments_lexer": "ipython3",
   "version": "3.8.3"
  }
 },
 "nbformat": 4,
 "nbformat_minor": 4
}
